{
 "cells": [
  {
   "cell_type": "code",
   "execution_count": 1,
   "metadata": {},
   "outputs": [],
   "source": [
    "library(\"aquamonitR\")"
   ]
  },
  {
   "cell_type": "markdown",
   "metadata": {},
   "source": [
    "# Query project-specific water chemistry data using the Aquamonitor API from R\n",
    "\n",
    "`aquamonitR` is a translation of [Aquamonitor-Python](https://github.com/NIVANorge/Aquamonitor-Python) to R."
   ]
  },
  {
   "cell_type": "markdown",
   "metadata": {},
   "source": [
    "## 1. Login"
   ]
  },
  {
   "cell_type": "code",
   "execution_count": 2,
   "metadata": {},
   "outputs": [
    {
     "name": "stdin",
     "output_type": "stream",
     "text": [
      "Username: ···\n",
      "Password: ··············\n"
     ]
    }
   ],
   "source": [
    "# Login to AM\n",
    "token <- login()"
   ]
  },
  {
   "cell_type": "markdown",
   "metadata": {},
   "source": [
    "## 2. List projects\n",
    "\n",
    "The `get_projects` function returns a list of all projects in the database. You can search this dataframe to identify the correct project ID for the project you are interested in."
   ]
  },
  {
   "cell_type": "code",
   "execution_count": 3,
   "metadata": {},
   "outputs": [
    {
     "data": {
      "text/html": [
       "'1334 projects in the database.'"
      ],
      "text/latex": [
       "'1334 projects in the database.'"
      ],
      "text/markdown": [
       "'1334 projects in the database.'"
      ],
      "text/plain": [
       "[1] \"1334 projects in the database.\""
      ]
     },
     "metadata": {},
     "output_type": "display_data"
    },
    {
     "data": {
      "text/html": [
       "<table class=\"dataframe\">\n",
       "<caption>A data.frame: 6 × 4</caption>\n",
       "<thead>\n",
       "\t<tr><th></th><th scope=col>project_id</th><th scope=col>project_code</th><th scope=col>project_name</th><th scope=col>description</th></tr>\n",
       "\t<tr><th></th><th scope=col>&lt;int&gt;</th><th scope=col>&lt;chr&gt;</th><th scope=col>&lt;chr&gt;</th><th scope=col>&lt;chr&gt;</th></tr>\n",
       "</thead>\n",
       "<tbody>\n",
       "\t<tr><th scope=row>1</th><td> 1</td><td>NA</td><td>xxx            </td><td>NA     </td></tr>\n",
       "\t<tr><th scope=row>2</th><td>55</td><td>NA</td><td>PARCOM_Aquateam</td><td>NA     </td></tr>\n",
       "\t<tr><th scope=row>3</th><td>56</td><td>NA</td><td>PARCOM_NIVA    </td><td>NA     </td></tr>\n",
       "\t<tr><th scope=row>4</th><td>58</td><td>NA</td><td>MAR_BOK        </td><td>Fagdata</td></tr>\n",
       "\t<tr><th scope=row>5</th><td>59</td><td>NA</td><td>MAR_IMA        </td><td>Fagdata</td></tr>\n",
       "\t<tr><th scope=row>6</th><td>60</td><td>NA</td><td>MAR_JOK        </td><td>Fagdata</td></tr>\n",
       "</tbody>\n",
       "</table>\n"
      ],
      "text/latex": [
       "A data.frame: 6 × 4\n",
       "\\begin{tabular}{r|llll}\n",
       "  & project\\_id & project\\_code & project\\_name & description\\\\\n",
       "  & <int> & <chr> & <chr> & <chr>\\\\\n",
       "\\hline\n",
       "\t1 &  1 & NA & xxx             & NA     \\\\\n",
       "\t2 & 55 & NA & PARCOM\\_Aquateam & NA     \\\\\n",
       "\t3 & 56 & NA & PARCOM\\_NIVA     & NA     \\\\\n",
       "\t4 & 58 & NA & MAR\\_BOK         & Fagdata\\\\\n",
       "\t5 & 59 & NA & MAR\\_IMA         & Fagdata\\\\\n",
       "\t6 & 60 & NA & MAR\\_JOK         & Fagdata\\\\\n",
       "\\end{tabular}\n"
      ],
      "text/markdown": [
       "\n",
       "A data.frame: 6 × 4\n",
       "\n",
       "| <!--/--> | project_id &lt;int&gt; | project_code &lt;chr&gt; | project_name &lt;chr&gt; | description &lt;chr&gt; |\n",
       "|---|---|---|---|---|\n",
       "| 1 |  1 | NA | xxx             | NA      |\n",
       "| 2 | 55 | NA | PARCOM_Aquateam | NA      |\n",
       "| 3 | 56 | NA | PARCOM_NIVA     | NA      |\n",
       "| 4 | 58 | NA | MAR_BOK         | Fagdata |\n",
       "| 5 | 59 | NA | MAR_IMA         | Fagdata |\n",
       "| 6 | 60 | NA | MAR_JOK         | Fagdata |\n",
       "\n"
      ],
      "text/plain": [
       "  project_id project_code project_name    description\n",
       "1  1         NA           xxx             NA         \n",
       "2 55         NA           PARCOM_Aquateam NA         \n",
       "3 56         NA           PARCOM_NIVA     NA         \n",
       "4 58         NA           MAR_BOK         Fagdata    \n",
       "5 59         NA           MAR_IMA         Fagdata    \n",
       "6 60         NA           MAR_JOK         Fagdata    "
      ]
     },
     "metadata": {},
     "output_type": "display_data"
    }
   ],
   "source": [
    "proj_df <- get_projects(token = token)\n",
    "paste0(nrow(proj_df), \" projects in the database.\")\n",
    "head(proj_df)"
   ]
  },
  {
   "cell_type": "code",
   "execution_count": 4,
   "metadata": {},
   "outputs": [
    {
     "data": {
      "text/html": [
       "<table class=\"dataframe\">\n",
       "<caption>A data.frame: 1 × 4</caption>\n",
       "<thead>\n",
       "\t<tr><th></th><th scope=col>project_id</th><th scope=col>project_code</th><th scope=col>project_name</th><th scope=col>description</th></tr>\n",
       "\t<tr><th></th><th scope=col>&lt;int&gt;</th><th scope=col>&lt;chr&gt;</th><th scope=col>&lt;chr&gt;</th><th scope=col>&lt;chr&gt;</th></tr>\n",
       "</thead>\n",
       "<tbody>\n",
       "\t<tr><th scope=row>1202</th><td>12433</td><td>190091</td><td>Nasjonal Innsjøundersøkelse 2019</td><td>1000-sjøer undersøkelse gjennomført i 2019</td></tr>\n",
       "</tbody>\n",
       "</table>\n"
      ],
      "text/latex": [
       "A data.frame: 1 × 4\n",
       "\\begin{tabular}{r|llll}\n",
       "  & project\\_id & project\\_code & project\\_name & description\\\\\n",
       "  & <int> & <chr> & <chr> & <chr>\\\\\n",
       "\\hline\n",
       "\t1202 & 12433 & 190091 & Nasjonal Innsjøundersøkelse 2019 & 1000-sjøer undersøkelse gjennomført i 2019\\\\\n",
       "\\end{tabular}\n"
      ],
      "text/markdown": [
       "\n",
       "A data.frame: 1 × 4\n",
       "\n",
       "| <!--/--> | project_id &lt;int&gt; | project_code &lt;chr&gt; | project_name &lt;chr&gt; | description &lt;chr&gt; |\n",
       "|---|---|---|---|---|\n",
       "| 1202 | 12433 | 190091 | Nasjonal Innsjøundersøkelse 2019 | 1000-sjøer undersøkelse gjennomført i 2019 |\n",
       "\n"
      ],
      "text/plain": [
       "     project_id project_code project_name                    \n",
       "1202 12433      190091       Nasjonal Innsjøundersøkelse 2019\n",
       "     description                               \n",
       "1202 1000-sjøer undersøkelse gjennomført i 2019"
      ]
     },
     "metadata": {},
     "output_type": "display_data"
    }
   ],
   "source": [
    "# Find the project code for the 2019 '1000 Lakes' survey\n",
    "subset(proj_df, grepl(\"Nasjonal\", project_name))"
   ]
  },
  {
   "cell_type": "markdown",
   "metadata": {},
   "source": [
    "## 3. Get stations in project\n",
    "\n",
    "Use `get_project_stations` to get a list of all stations associated with your project of interest.\n",
    "\n",
    "**To do:** It would be great if this API endpoint could also return the geographic co-ordinates (lat/lon) for each station. At present, I think this can only be achieved by iterating over the `api/projects/{proj_id}/stations/{stn_id}/samplePoint` endpoint for each station, which is slow."
   ]
  },
  {
   "cell_type": "code",
   "execution_count": 5,
   "metadata": {},
   "outputs": [
    {
     "data": {
      "text/html": [
       "'1003 stations in project.'"
      ],
      "text/latex": [
       "'1003 stations in project.'"
      ],
      "text/markdown": [
       "'1003 stations in project.'"
      ],
      "text/plain": [
       "[1] \"1003 stations in project.\""
      ]
     },
     "metadata": {},
     "output_type": "display_data"
    },
    {
     "data": {
      "text/html": [
       "<table class=\"dataframe\">\n",
       "<caption>A data.frame: 6 × 5</caption>\n",
       "<thead>\n",
       "\t<tr><th></th><th scope=col>project_id</th><th scope=col>station_id</th><th scope=col>station_code</th><th scope=col>station_name</th><th scope=col>type</th></tr>\n",
       "\t<tr><th></th><th scope=col>&lt;int&gt;</th><th scope=col>&lt;int&gt;</th><th scope=col>&lt;chr&gt;</th><th scope=col>&lt;chr&gt;</th><th scope=col>&lt;chr&gt;</th></tr>\n",
       "</thead>\n",
       "<tbody>\n",
       "\t<tr><th scope=row>1</th><td>12433</td><td>26104</td><td>1037-1-1 </td><td>Lisle Frøysvatnet</td><td>Innsjø</td></tr>\n",
       "\t<tr><th scope=row>2</th><td>12433</td><td>26105</td><td>1046-1-23</td><td>Bergetjørni      </td><td>Innsjø</td></tr>\n",
       "\t<tr><th scope=row>3</th><td>12433</td><td>26106</td><td>1114-1-20</td><td>Skjelbreidtjørni </td><td>Innsjø</td></tr>\n",
       "\t<tr><th scope=row>4</th><td>12433</td><td>26107</td><td>1114-1-34</td><td>Lomstjørni       </td><td>Innsjø</td></tr>\n",
       "\t<tr><th scope=row>5</th><td>12433</td><td>26108</td><td>1122-1-9 </td><td>Kråtjørni        </td><td>Innsjø</td></tr>\n",
       "\t<tr><th scope=row>6</th><td>12433</td><td>26109</td><td>1129-1-13</td><td>Tvaravatnet      </td><td>Innsjø</td></tr>\n",
       "</tbody>\n",
       "</table>\n"
      ],
      "text/latex": [
       "A data.frame: 6 × 5\n",
       "\\begin{tabular}{r|lllll}\n",
       "  & project\\_id & station\\_id & station\\_code & station\\_name & type\\\\\n",
       "  & <int> & <int> & <chr> & <chr> & <chr>\\\\\n",
       "\\hline\n",
       "\t1 & 12433 & 26104 & 1037-1-1  & Lisle Frøysvatnet & Innsjø\\\\\n",
       "\t2 & 12433 & 26105 & 1046-1-23 & Bergetjørni       & Innsjø\\\\\n",
       "\t3 & 12433 & 26106 & 1114-1-20 & Skjelbreidtjørni  & Innsjø\\\\\n",
       "\t4 & 12433 & 26107 & 1114-1-34 & Lomstjørni        & Innsjø\\\\\n",
       "\t5 & 12433 & 26108 & 1122-1-9  & Kråtjørni         & Innsjø\\\\\n",
       "\t6 & 12433 & 26109 & 1129-1-13 & Tvaravatnet       & Innsjø\\\\\n",
       "\\end{tabular}\n"
      ],
      "text/markdown": [
       "\n",
       "A data.frame: 6 × 5\n",
       "\n",
       "| <!--/--> | project_id &lt;int&gt; | station_id &lt;int&gt; | station_code &lt;chr&gt; | station_name &lt;chr&gt; | type &lt;chr&gt; |\n",
       "|---|---|---|---|---|---|\n",
       "| 1 | 12433 | 26104 | 1037-1-1  | Lisle Frøysvatnet | Innsjø |\n",
       "| 2 | 12433 | 26105 | 1046-1-23 | Bergetjørni       | Innsjø |\n",
       "| 3 | 12433 | 26106 | 1114-1-20 | Skjelbreidtjørni  | Innsjø |\n",
       "| 4 | 12433 | 26107 | 1114-1-34 | Lomstjørni        | Innsjø |\n",
       "| 5 | 12433 | 26108 | 1122-1-9  | Kråtjørni         | Innsjø |\n",
       "| 6 | 12433 | 26109 | 1129-1-13 | Tvaravatnet       | Innsjø |\n",
       "\n"
      ],
      "text/plain": [
       "  project_id station_id station_code station_name      type  \n",
       "1 12433      26104      1037-1-1     Lisle Frøysvatnet Innsjø\n",
       "2 12433      26105      1046-1-23    Bergetjørni       Innsjø\n",
       "3 12433      26106      1114-1-20    Skjelbreidtjørni  Innsjø\n",
       "4 12433      26107      1114-1-34    Lomstjørni        Innsjø\n",
       "5 12433      26108      1122-1-9     Kråtjørni         Innsjø\n",
       "6 12433      26109      1129-1-13    Tvaravatnet       Innsjø"
      ]
     },
     "metadata": {},
     "output_type": "display_data"
    }
   ],
   "source": [
    "# Project of interest\n",
    "proj_id <- 12433\n",
    "\n",
    "stn_df <- get_project_stations(proj_id, token = token)\n",
    "paste0(nrow(stn_df), \" stations in project.\")\n",
    "head(stn_df)"
   ]
  },
  {
   "cell_type": "markdown",
   "metadata": {},
   "source": [
    "## 4. Get water chemistry\n",
    "\n",
    "Use `get_project_chemistry` to extract all the water chemistry data for your project and time period of of interest."
   ]
  },
  {
   "cell_type": "code",
   "execution_count": 6,
   "metadata": {},
   "outputs": [
    {
     "data": {
      "text/html": [
       "<table class=\"dataframe\">\n",
       "<caption>A data.frame: 6 × 12</caption>\n",
       "<thead>\n",
       "\t<tr><th></th><th scope=col>project_id</th><th scope=col>project_name</th><th scope=col>station_id</th><th scope=col>station_code</th><th scope=col>station_name</th><th scope=col>sample_date</th><th scope=col>depth1</th><th scope=col>depth2</th><th scope=col>parameter_name</th><th scope=col>flag</th><th scope=col>value</th><th scope=col>unit</th></tr>\n",
       "\t<tr><th></th><th scope=col>&lt;int&gt;</th><th scope=col>&lt;chr&gt;</th><th scope=col>&lt;int&gt;</th><th scope=col>&lt;chr&gt;</th><th scope=col>&lt;chr&gt;</th><th scope=col>&lt;dttm&gt;</th><th scope=col>&lt;dbl&gt;</th><th scope=col>&lt;dbl&gt;</th><th scope=col>&lt;chr&gt;</th><th scope=col>&lt;chr&gt;</th><th scope=col>&lt;dbl&gt;</th><th scope=col>&lt;chr&gt;</th></tr>\n",
       "</thead>\n",
       "<tbody>\n",
       "\t<tr><th scope=row>1</th><td>12433</td><td>Nasjonal Innsjøundersøkelse 2019</td><td>71716</td><td>128-2-200</td><td>Langevatnet</td><td>2019-10-25</td><td>0</td><td>0</td><td>Cl       </td><td>NA</td><td>  4.140</td><td>mg/L</td></tr>\n",
       "\t<tr><th scope=row>2</th><td>12433</td><td>Nasjonal Innsjøundersøkelse 2019</td><td>71716</td><td>128-2-200</td><td>Langevatnet</td><td>2019-10-25</td><td>0</td><td>0</td><td>Cd       </td><td>NA</td><td>  0.039</td><td>µg/l</td></tr>\n",
       "\t<tr><th scope=row>3</th><td>12433</td><td>Nasjonal Innsjøundersøkelse 2019</td><td>71716</td><td>128-2-200</td><td>Langevatnet</td><td>2019-10-25</td><td>0</td><td>0</td><td>Fe       </td><td>NA</td><td>830.000</td><td>µg/l</td></tr>\n",
       "\t<tr><th scope=row>4</th><td>12433</td><td>Nasjonal Innsjøundersøkelse 2019</td><td>71716</td><td>128-2-200</td><td>Langevatnet</td><td>2019-10-25</td><td>0</td><td>0</td><td>Mn       </td><td>NA</td><td> 19.000</td><td>µg/l</td></tr>\n",
       "\t<tr><th scope=row>5</th><td>12433</td><td>Nasjonal Innsjøundersøkelse 2019</td><td>71716</td><td>128-2-200</td><td>Langevatnet</td><td>2019-10-25</td><td>0</td><td>0</td><td>Co       </td><td>NA</td><td>  0.760</td><td>µg/L</td></tr>\n",
       "\t<tr><th scope=row>6</th><td>12433</td><td>Nasjonal Innsjøundersøkelse 2019</td><td>71716</td><td>128-2-200</td><td>Langevatnet</td><td>2019-10-25</td><td>0</td><td>0</td><td>NO3+NO2-N</td><td>NA</td><td> 46.000</td><td>µg/l</td></tr>\n",
       "</tbody>\n",
       "</table>\n"
      ],
      "text/latex": [
       "A data.frame: 6 × 12\n",
       "\\begin{tabular}{r|llllllllllll}\n",
       "  & project\\_id & project\\_name & station\\_id & station\\_code & station\\_name & sample\\_date & depth1 & depth2 & parameter\\_name & flag & value & unit\\\\\n",
       "  & <int> & <chr> & <int> & <chr> & <chr> & <dttm> & <dbl> & <dbl> & <chr> & <chr> & <dbl> & <chr>\\\\\n",
       "\\hline\n",
       "\t1 & 12433 & Nasjonal Innsjøundersøkelse 2019 & 71716 & 128-2-200 & Langevatnet & 2019-10-25 & 0 & 0 & Cl        & NA &   4.140 & mg/L\\\\\n",
       "\t2 & 12433 & Nasjonal Innsjøundersøkelse 2019 & 71716 & 128-2-200 & Langevatnet & 2019-10-25 & 0 & 0 & Cd        & NA &   0.039 & µg/l\\\\\n",
       "\t3 & 12433 & Nasjonal Innsjøundersøkelse 2019 & 71716 & 128-2-200 & Langevatnet & 2019-10-25 & 0 & 0 & Fe        & NA & 830.000 & µg/l\\\\\n",
       "\t4 & 12433 & Nasjonal Innsjøundersøkelse 2019 & 71716 & 128-2-200 & Langevatnet & 2019-10-25 & 0 & 0 & Mn        & NA &  19.000 & µg/l\\\\\n",
       "\t5 & 12433 & Nasjonal Innsjøundersøkelse 2019 & 71716 & 128-2-200 & Langevatnet & 2019-10-25 & 0 & 0 & Co        & NA &   0.760 & µg/L\\\\\n",
       "\t6 & 12433 & Nasjonal Innsjøundersøkelse 2019 & 71716 & 128-2-200 & Langevatnet & 2019-10-25 & 0 & 0 & NO3+NO2-N & NA &  46.000 & µg/l\\\\\n",
       "\\end{tabular}\n"
      ],
      "text/markdown": [
       "\n",
       "A data.frame: 6 × 12\n",
       "\n",
       "| <!--/--> | project_id &lt;int&gt; | project_name &lt;chr&gt; | station_id &lt;int&gt; | station_code &lt;chr&gt; | station_name &lt;chr&gt; | sample_date &lt;dttm&gt; | depth1 &lt;dbl&gt; | depth2 &lt;dbl&gt; | parameter_name &lt;chr&gt; | flag &lt;chr&gt; | value &lt;dbl&gt; | unit &lt;chr&gt; |\n",
       "|---|---|---|---|---|---|---|---|---|---|---|---|---|\n",
       "| 1 | 12433 | Nasjonal Innsjøundersøkelse 2019 | 71716 | 128-2-200 | Langevatnet | 2019-10-25 | 0 | 0 | Cl        | NA |   4.140 | mg/L |\n",
       "| 2 | 12433 | Nasjonal Innsjøundersøkelse 2019 | 71716 | 128-2-200 | Langevatnet | 2019-10-25 | 0 | 0 | Cd        | NA |   0.039 | µg/l |\n",
       "| 3 | 12433 | Nasjonal Innsjøundersøkelse 2019 | 71716 | 128-2-200 | Langevatnet | 2019-10-25 | 0 | 0 | Fe        | NA | 830.000 | µg/l |\n",
       "| 4 | 12433 | Nasjonal Innsjøundersøkelse 2019 | 71716 | 128-2-200 | Langevatnet | 2019-10-25 | 0 | 0 | Mn        | NA |  19.000 | µg/l |\n",
       "| 5 | 12433 | Nasjonal Innsjøundersøkelse 2019 | 71716 | 128-2-200 | Langevatnet | 2019-10-25 | 0 | 0 | Co        | NA |   0.760 | µg/L |\n",
       "| 6 | 12433 | Nasjonal Innsjøundersøkelse 2019 | 71716 | 128-2-200 | Langevatnet | 2019-10-25 | 0 | 0 | NO3+NO2-N | NA |  46.000 | µg/l |\n",
       "\n"
      ],
      "text/plain": [
       "  project_id project_name                     station_id station_code\n",
       "1 12433      Nasjonal Innsjøundersøkelse 2019 71716      128-2-200   \n",
       "2 12433      Nasjonal Innsjøundersøkelse 2019 71716      128-2-200   \n",
       "3 12433      Nasjonal Innsjøundersøkelse 2019 71716      128-2-200   \n",
       "4 12433      Nasjonal Innsjøundersøkelse 2019 71716      128-2-200   \n",
       "5 12433      Nasjonal Innsjøundersøkelse 2019 71716      128-2-200   \n",
       "6 12433      Nasjonal Innsjøundersøkelse 2019 71716      128-2-200   \n",
       "  station_name sample_date depth1 depth2 parameter_name flag value   unit\n",
       "1 Langevatnet  2019-10-25  0      0      Cl             NA     4.140 mg/L\n",
       "2 Langevatnet  2019-10-25  0      0      Cd             NA     0.039 µg/l\n",
       "3 Langevatnet  2019-10-25  0      0      Fe             NA   830.000 µg/l\n",
       "4 Langevatnet  2019-10-25  0      0      Mn             NA    19.000 µg/l\n",
       "5 Langevatnet  2019-10-25  0      0      Co             NA     0.760 µg/L\n",
       "6 Langevatnet  2019-10-25  0      0      NO3+NO2-N      NA    46.000 µg/l"
      ]
     },
     "metadata": {},
     "output_type": "display_data"
    }
   ],
   "source": [
    "# Period of interest\n",
    "st_dt <- \"01.01.2019\"\n",
    "end_dt <- \"31.12.2019\"\n",
    "\n",
    "df <- get_project_chemistry(proj_id, st_dt, end_dt, token = token)\n",
    "head(df)"
   ]
  }
 ],
 "metadata": {
  "kernelspec": {
   "display_name": "R",
   "language": "R",
   "name": "ir"
  },
  "language_info": {
   "codemirror_mode": "r",
   "file_extension": ".r",
   "mimetype": "text/x-r-source",
   "name": "R",
   "pygments_lexer": "r",
   "version": "4.0.4"
  }
 },
 "nbformat": 4,
 "nbformat_minor": 4
}
