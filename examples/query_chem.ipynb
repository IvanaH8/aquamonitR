{
 "cells": [
  {
   "cell_type": "code",
   "execution_count": 1,
   "metadata": {},
   "outputs": [],
   "source": [
    "source(\"../aquamonitR.R\")\n",
    "\n",
    "# The new functionality requires using the AM dev/test site\n",
    "host <- \"https://test-aquamonitor.niva.no/\""
   ]
  },
  {
   "cell_type": "markdown",
   "metadata": {},
   "source": [
    "# Query project-specific water chemistry data using the Aquamonitor API from R\n",
    "\n",
    "`aquamonitR` is a translation of [Aquamonitor-Python](https://github.com/NIVANorge/Aquamonitor-Python) to R."
   ]
  },
  {
   "cell_type": "markdown",
   "metadata": {},
   "source": [
    "## 1. Login"
   ]
  },
  {
   "cell_type": "code",
   "execution_count": 2,
   "metadata": {},
   "outputs": [
    {
     "name": "stdin",
     "output_type": "stream",
     "text": [
      "Username:  ···\n",
      "Password:  ··············\n"
     ]
    }
   ],
   "source": [
    "# Login to AM\n",
    "token <- login()"
   ]
  },
  {
   "cell_type": "markdown",
   "metadata": {},
   "source": [
    "## 2. List projects\n",
    "\n",
    "The `get_projects` function returns a list of all projects in the database. You can search this dataframe to identify the correct project ID for the project you are interested in."
   ]
  },
  {
   "cell_type": "code",
   "execution_count": 3,
   "metadata": {},
   "outputs": [
    {
     "name": "stdout",
     "output_type": "stream",
     "text": [
      "[1] \"1302 projects in the database.\"\n"
     ]
    },
    {
     "data": {
      "text/html": [
       "<table>\n",
       "<caption>A data.frame: 6 × 4</caption>\n",
       "<thead>\n",
       "\t<tr><th></th><th scope=col>ProjectId</th><th scope=col>ProjectCode</th><th scope=col>ProjectName</th><th scope=col>Description</th></tr>\n",
       "\t<tr><th></th><th scope=col>&lt;int&gt;</th><th scope=col>&lt;chr&gt;</th><th scope=col>&lt;chr&gt;</th><th scope=col>&lt;chr&gt;</th></tr>\n",
       "</thead>\n",
       "<tbody>\n",
       "\t<tr><th scope=row>1</th><td> 1</td><td>NA</td><td>xxx            </td><td>NA     </td></tr>\n",
       "\t<tr><th scope=row>2</th><td>55</td><td>NA</td><td>PARCOM_Aquateam</td><td>NA     </td></tr>\n",
       "\t<tr><th scope=row>3</th><td>56</td><td>NA</td><td>PARCOM_NIVA    </td><td>NA     </td></tr>\n",
       "\t<tr><th scope=row>4</th><td>58</td><td>NA</td><td>MAR_BOK        </td><td>Fagdata</td></tr>\n",
       "\t<tr><th scope=row>5</th><td>59</td><td>NA</td><td>MAR_IMA        </td><td>Fagdata</td></tr>\n",
       "\t<tr><th scope=row>6</th><td>60</td><td>NA</td><td>MAR_JOK        </td><td>Fagdata</td></tr>\n",
       "</tbody>\n",
       "</table>\n"
      ],
      "text/latex": [
       "A data.frame: 6 × 4\n",
       "\\begin{tabular}{r|llll}\n",
       "  & ProjectId & ProjectCode & ProjectName & Description\\\\\n",
       "  & <int> & <chr> & <chr> & <chr>\\\\\n",
       "\\hline\n",
       "\t1 &  1 & NA & xxx             & NA     \\\\\n",
       "\t2 & 55 & NA & PARCOM\\_Aquateam & NA     \\\\\n",
       "\t3 & 56 & NA & PARCOM\\_NIVA     & NA     \\\\\n",
       "\t4 & 58 & NA & MAR\\_BOK         & Fagdata\\\\\n",
       "\t5 & 59 & NA & MAR\\_IMA         & Fagdata\\\\\n",
       "\t6 & 60 & NA & MAR\\_JOK         & Fagdata\\\\\n",
       "\\end{tabular}\n"
      ],
      "text/markdown": [
       "\n",
       "A data.frame: 6 × 4\n",
       "\n",
       "| <!--/--> | ProjectId &lt;int&gt; | ProjectCode &lt;chr&gt; | ProjectName &lt;chr&gt; | Description &lt;chr&gt; |\n",
       "|---|---|---|---|---|\n",
       "| 1 |  1 | NA | xxx             | NA      |\n",
       "| 2 | 55 | NA | PARCOM_Aquateam | NA      |\n",
       "| 3 | 56 | NA | PARCOM_NIVA     | NA      |\n",
       "| 4 | 58 | NA | MAR_BOK         | Fagdata |\n",
       "| 5 | 59 | NA | MAR_IMA         | Fagdata |\n",
       "| 6 | 60 | NA | MAR_JOK         | Fagdata |\n",
       "\n"
      ],
      "text/plain": [
       "  ProjectId ProjectCode ProjectName     Description\n",
       "1  1        NA          xxx             NA         \n",
       "2 55        NA          PARCOM_Aquateam NA         \n",
       "3 56        NA          PARCOM_NIVA     NA         \n",
       "4 58        NA          MAR_BOK         Fagdata    \n",
       "5 59        NA          MAR_IMA         Fagdata    \n",
       "6 60        NA          MAR_JOK         Fagdata    "
      ]
     },
     "metadata": {},
     "output_type": "display_data"
    }
   ],
   "source": [
    "proj_df <- get_projects(token = token)\n",
    "print(paste(nrow(proj_df), \"projects in the database.\", sep = \" \"))\n",
    "head(proj_df)"
   ]
  },
  {
   "cell_type": "code",
   "execution_count": 4,
   "metadata": {},
   "outputs": [
    {
     "data": {
      "text/html": [
       "<table>\n",
       "<caption>A data.frame: 1 × 4</caption>\n",
       "<thead>\n",
       "\t<tr><th></th><th scope=col>ProjectId</th><th scope=col>ProjectCode</th><th scope=col>ProjectName</th><th scope=col>Description</th></tr>\n",
       "\t<tr><th></th><th scope=col>&lt;int&gt;</th><th scope=col>&lt;chr&gt;</th><th scope=col>&lt;chr&gt;</th><th scope=col>&lt;chr&gt;</th></tr>\n",
       "</thead>\n",
       "<tbody>\n",
       "\t<tr><th scope=row>1202</th><td>12433</td><td>190091</td><td>Nasjonal Innsjøundersøkelse 2019</td><td>1000-sjøer undersøkelse gjennomført i 2019</td></tr>\n",
       "</tbody>\n",
       "</table>\n"
      ],
      "text/latex": [
       "A data.frame: 1 × 4\n",
       "\\begin{tabular}{r|llll}\n",
       "  & ProjectId & ProjectCode & ProjectName & Description\\\\\n",
       "  & <int> & <chr> & <chr> & <chr>\\\\\n",
       "\\hline\n",
       "\t1202 & 12433 & 190091 & Nasjonal Innsjøundersøkelse 2019 & 1000-sjøer undersøkelse gjennomført i 2019\\\\\n",
       "\\end{tabular}\n"
      ],
      "text/markdown": [
       "\n",
       "A data.frame: 1 × 4\n",
       "\n",
       "| <!--/--> | ProjectId &lt;int&gt; | ProjectCode &lt;chr&gt; | ProjectName &lt;chr&gt; | Description &lt;chr&gt; |\n",
       "|---|---|---|---|---|\n",
       "| 1202 | 12433 | 190091 | Nasjonal Innsjøundersøkelse 2019 | 1000-sjøer undersøkelse gjennomført i 2019 |\n",
       "\n"
      ],
      "text/plain": [
       "     ProjectId ProjectCode ProjectName                     \n",
       "1202 12433     190091      Nasjonal Innsjøundersøkelse 2019\n",
       "     Description                               \n",
       "1202 1000-sjøer undersøkelse gjennomført i 2019"
      ]
     },
     "metadata": {},
     "output_type": "display_data"
    }
   ],
   "source": [
    "# Find the project code for the 2019 '1000 Lakes' survey\n",
    "subset(proj_df, grepl(\"Nasjonal\", ProjectName))"
   ]
  },
  {
   "cell_type": "markdown",
   "metadata": {},
   "source": [
    "## 3. Get stations in project\n",
    "\n",
    "Use `get_project_stations` to get a list of all stations associated with your project of interest.\n",
    "\n",
    "**To do:** It would be great if this API endpoint could also return the geographic co-ordinates (lat/lon) for each station. At present, I think this can only be achieved by iterating over the `api/projects/{proj_id}/stations/{stn_id}/samplePoint` endpoint for each station, which is slow."
   ]
  },
  {
   "cell_type": "code",
   "execution_count": 5,
   "metadata": {},
   "outputs": [
    {
     "name": "stdout",
     "output_type": "stream",
     "text": [
      "[1] \"Id\"         \"ProjectId\"  \"Code\"       \"Name\"       \"Type._Id\"  \n",
      "[6] \"Type._Text\"\n",
      "     Id ProjectId      Code              Name Type._Id Type._Text\n",
      "1 26104     12433  1037-1-1 Lisle Frøysvatnet        1     Innsjø\n",
      "2 26105     12433 1046-1-23       Bergetjørni        1     Innsjø\n",
      "3 26106     12433 1114-1-20  Skjelbreidtjørni        1     Innsjø\n",
      "4 26107     12433 1114-1-34        Lomstjørni        1     Innsjø\n",
      "5 26108     12433  1122-1-9         Kråtjørni        1     Innsjø\n",
      "6 26109     12433 1129-1-13       Tvaravatnet        1     Innsjø\n",
      "[1] \"1003 stations in project.\"\n"
     ]
    },
    {
     "data": {
      "text/html": [
       "<table>\n",
       "<caption>A data.frame: 6 × 5</caption>\n",
       "<thead>\n",
       "\t<tr><th></th><th scope=col>ProjectId</th><th scope=col>StationId</th><th scope=col>StationCode</th><th scope=col>StationName</th><th scope=col>Type</th></tr>\n",
       "\t<tr><th></th><th scope=col>&lt;int&gt;</th><th scope=col>&lt;int&gt;</th><th scope=col>&lt;chr&gt;</th><th scope=col>&lt;chr&gt;</th><th scope=col>&lt;chr&gt;</th></tr>\n",
       "</thead>\n",
       "<tbody>\n",
       "\t<tr><th scope=row>1</th><td>12433</td><td>26104</td><td>1037-1-1 </td><td>Lisle Frøysvatnet</td><td>Innsjø</td></tr>\n",
       "\t<tr><th scope=row>2</th><td>12433</td><td>26105</td><td>1046-1-23</td><td>Bergetjørni      </td><td>Innsjø</td></tr>\n",
       "\t<tr><th scope=row>3</th><td>12433</td><td>26106</td><td>1114-1-20</td><td>Skjelbreidtjørni </td><td>Innsjø</td></tr>\n",
       "\t<tr><th scope=row>4</th><td>12433</td><td>26107</td><td>1114-1-34</td><td>Lomstjørni       </td><td>Innsjø</td></tr>\n",
       "\t<tr><th scope=row>5</th><td>12433</td><td>26108</td><td>1122-1-9 </td><td>Kråtjørni        </td><td>Innsjø</td></tr>\n",
       "\t<tr><th scope=row>6</th><td>12433</td><td>26109</td><td>1129-1-13</td><td>Tvaravatnet      </td><td>Innsjø</td></tr>\n",
       "</tbody>\n",
       "</table>\n"
      ],
      "text/latex": [
       "A data.frame: 6 × 5\n",
       "\\begin{tabular}{r|lllll}\n",
       "  & ProjectId & StationId & StationCode & StationName & Type\\\\\n",
       "  & <int> & <int> & <chr> & <chr> & <chr>\\\\\n",
       "\\hline\n",
       "\t1 & 12433 & 26104 & 1037-1-1  & Lisle Frøysvatnet & Innsjø\\\\\n",
       "\t2 & 12433 & 26105 & 1046-1-23 & Bergetjørni       & Innsjø\\\\\n",
       "\t3 & 12433 & 26106 & 1114-1-20 & Skjelbreidtjørni  & Innsjø\\\\\n",
       "\t4 & 12433 & 26107 & 1114-1-34 & Lomstjørni        & Innsjø\\\\\n",
       "\t5 & 12433 & 26108 & 1122-1-9  & Kråtjørni         & Innsjø\\\\\n",
       "\t6 & 12433 & 26109 & 1129-1-13 & Tvaravatnet       & Innsjø\\\\\n",
       "\\end{tabular}\n"
      ],
      "text/markdown": [
       "\n",
       "A data.frame: 6 × 5\n",
       "\n",
       "| <!--/--> | ProjectId &lt;int&gt; | StationId &lt;int&gt; | StationCode &lt;chr&gt; | StationName &lt;chr&gt; | Type &lt;chr&gt; |\n",
       "|---|---|---|---|---|---|\n",
       "| 1 | 12433 | 26104 | 1037-1-1  | Lisle Frøysvatnet | Innsjø |\n",
       "| 2 | 12433 | 26105 | 1046-1-23 | Bergetjørni       | Innsjø |\n",
       "| 3 | 12433 | 26106 | 1114-1-20 | Skjelbreidtjørni  | Innsjø |\n",
       "| 4 | 12433 | 26107 | 1114-1-34 | Lomstjørni        | Innsjø |\n",
       "| 5 | 12433 | 26108 | 1122-1-9  | Kråtjørni         | Innsjø |\n",
       "| 6 | 12433 | 26109 | 1129-1-13 | Tvaravatnet       | Innsjø |\n",
       "\n"
      ],
      "text/plain": [
       "  ProjectId StationId StationCode StationName       Type  \n",
       "1 12433     26104     1037-1-1    Lisle Frøysvatnet Innsjø\n",
       "2 12433     26105     1046-1-23   Bergetjørni       Innsjø\n",
       "3 12433     26106     1114-1-20   Skjelbreidtjørni  Innsjø\n",
       "4 12433     26107     1114-1-34   Lomstjørni        Innsjø\n",
       "5 12433     26108     1122-1-9    Kråtjørni         Innsjø\n",
       "6 12433     26109     1129-1-13   Tvaravatnet       Innsjø"
      ]
     },
     "metadata": {},
     "output_type": "display_data"
    }
   ],
   "source": [
    "# Project of interest\n",
    "proj_id <- 12433\n",
    "\n",
    "stn_df <- get_project_stations(proj_id, token = token)\n",
    "print(paste(nrow(stn_df), \"stations in project.\", sep = \" \"))\n",
    "head(stn_df)"
   ]
  },
  {
   "cell_type": "markdown",
   "metadata": {},
   "source": [
    "## 4. Get water chemistry\n",
    "\n",
    "Use `get_project_chemistry` to extract all the water chemistry data for your project and time period of of interest."
   ]
  },
  {
   "cell_type": "code",
   "execution_count": 6,
   "metadata": {},
   "outputs": [
    {
     "data": {
      "text/html": [
       "<table>\n",
       "<caption>A data.frame: 6 × 12</caption>\n",
       "<thead>\n",
       "\t<tr><th></th><th scope=col>ProjectId</th><th scope=col>ProjectName</th><th scope=col>StationId</th><th scope=col>StationCode</th><th scope=col>StationName</th><th scope=col>SampleDate</th><th scope=col>Depth1</th><th scope=col>Depth2</th><th scope=col>ParameterName</th><th scope=col>Flag</th><th scope=col>Value</th><th scope=col>Unit</th></tr>\n",
       "\t<tr><th></th><th scope=col>&lt;int&gt;</th><th scope=col>&lt;chr&gt;</th><th scope=col>&lt;int&gt;</th><th scope=col>&lt;chr&gt;</th><th scope=col>&lt;chr&gt;</th><th scope=col>&lt;dttm&gt;</th><th scope=col>&lt;dbl&gt;</th><th scope=col>&lt;dbl&gt;</th><th scope=col>&lt;chr&gt;</th><th scope=col>&lt;chr&gt;</th><th scope=col>&lt;dbl&gt;</th><th scope=col>&lt;chr&gt;</th></tr>\n",
       "</thead>\n",
       "<tbody>\n",
       "\t<tr><th scope=row>1</th><td>12433</td><td>Nasjonal Innsjøundersøkelse 2019</td><td>71716</td><td>128-2-200</td><td>Langevatnet</td><td>2019-10-25</td><td>0</td><td>0</td><td>Cl       </td><td>NA</td><td>  4.140</td><td>mg/L</td></tr>\n",
       "\t<tr><th scope=row>2</th><td>12433</td><td>Nasjonal Innsjøundersøkelse 2019</td><td>71716</td><td>128-2-200</td><td>Langevatnet</td><td>2019-10-25</td><td>0</td><td>0</td><td>Cd       </td><td>NA</td><td>  0.039</td><td>µg/l</td></tr>\n",
       "\t<tr><th scope=row>3</th><td>12433</td><td>Nasjonal Innsjøundersøkelse 2019</td><td>71716</td><td>128-2-200</td><td>Langevatnet</td><td>2019-10-25</td><td>0</td><td>0</td><td>Fe       </td><td>NA</td><td>830.000</td><td>µg/l</td></tr>\n",
       "\t<tr><th scope=row>4</th><td>12433</td><td>Nasjonal Innsjøundersøkelse 2019</td><td>71716</td><td>128-2-200</td><td>Langevatnet</td><td>2019-10-25</td><td>0</td><td>0</td><td>Mn       </td><td>NA</td><td> 19.000</td><td>µg/l</td></tr>\n",
       "\t<tr><th scope=row>5</th><td>12433</td><td>Nasjonal Innsjøundersøkelse 2019</td><td>71716</td><td>128-2-200</td><td>Langevatnet</td><td>2019-10-25</td><td>0</td><td>0</td><td>Co       </td><td>NA</td><td>  0.760</td><td>µg/L</td></tr>\n",
       "\t<tr><th scope=row>6</th><td>12433</td><td>Nasjonal Innsjøundersøkelse 2019</td><td>71716</td><td>128-2-200</td><td>Langevatnet</td><td>2019-10-25</td><td>0</td><td>0</td><td>NO3+NO2-N</td><td>NA</td><td> 46.000</td><td>µg/l</td></tr>\n",
       "</tbody>\n",
       "</table>\n"
      ],
      "text/latex": [
       "A data.frame: 6 × 12\n",
       "\\begin{tabular}{r|llllllllllll}\n",
       "  & ProjectId & ProjectName & StationId & StationCode & StationName & SampleDate & Depth1 & Depth2 & ParameterName & Flag & Value & Unit\\\\\n",
       "  & <int> & <chr> & <int> & <chr> & <chr> & <dttm> & <dbl> & <dbl> & <chr> & <chr> & <dbl> & <chr>\\\\\n",
       "\\hline\n",
       "\t1 & 12433 & Nasjonal Innsjøundersøkelse 2019 & 71716 & 128-2-200 & Langevatnet & 2019-10-25 & 0 & 0 & Cl        & NA &   4.140 & mg/L\\\\\n",
       "\t2 & 12433 & Nasjonal Innsjøundersøkelse 2019 & 71716 & 128-2-200 & Langevatnet & 2019-10-25 & 0 & 0 & Cd        & NA &   0.039 & µg/l\\\\\n",
       "\t3 & 12433 & Nasjonal Innsjøundersøkelse 2019 & 71716 & 128-2-200 & Langevatnet & 2019-10-25 & 0 & 0 & Fe        & NA & 830.000 & µg/l\\\\\n",
       "\t4 & 12433 & Nasjonal Innsjøundersøkelse 2019 & 71716 & 128-2-200 & Langevatnet & 2019-10-25 & 0 & 0 & Mn        & NA &  19.000 & µg/l\\\\\n",
       "\t5 & 12433 & Nasjonal Innsjøundersøkelse 2019 & 71716 & 128-2-200 & Langevatnet & 2019-10-25 & 0 & 0 & Co        & NA &   0.760 & µg/L\\\\\n",
       "\t6 & 12433 & Nasjonal Innsjøundersøkelse 2019 & 71716 & 128-2-200 & Langevatnet & 2019-10-25 & 0 & 0 & NO3+NO2-N & NA &  46.000 & µg/l\\\\\n",
       "\\end{tabular}\n"
      ],
      "text/markdown": [
       "\n",
       "A data.frame: 6 × 12\n",
       "\n",
       "| <!--/--> | ProjectId &lt;int&gt; | ProjectName &lt;chr&gt; | StationId &lt;int&gt; | StationCode &lt;chr&gt; | StationName &lt;chr&gt; | SampleDate &lt;dttm&gt; | Depth1 &lt;dbl&gt; | Depth2 &lt;dbl&gt; | ParameterName &lt;chr&gt; | Flag &lt;chr&gt; | Value &lt;dbl&gt; | Unit &lt;chr&gt; |\n",
       "|---|---|---|---|---|---|---|---|---|---|---|---|---|\n",
       "| 1 | 12433 | Nasjonal Innsjøundersøkelse 2019 | 71716 | 128-2-200 | Langevatnet | 2019-10-25 | 0 | 0 | Cl        | NA |   4.140 | mg/L |\n",
       "| 2 | 12433 | Nasjonal Innsjøundersøkelse 2019 | 71716 | 128-2-200 | Langevatnet | 2019-10-25 | 0 | 0 | Cd        | NA |   0.039 | µg/l |\n",
       "| 3 | 12433 | Nasjonal Innsjøundersøkelse 2019 | 71716 | 128-2-200 | Langevatnet | 2019-10-25 | 0 | 0 | Fe        | NA | 830.000 | µg/l |\n",
       "| 4 | 12433 | Nasjonal Innsjøundersøkelse 2019 | 71716 | 128-2-200 | Langevatnet | 2019-10-25 | 0 | 0 | Mn        | NA |  19.000 | µg/l |\n",
       "| 5 | 12433 | Nasjonal Innsjøundersøkelse 2019 | 71716 | 128-2-200 | Langevatnet | 2019-10-25 | 0 | 0 | Co        | NA |   0.760 | µg/L |\n",
       "| 6 | 12433 | Nasjonal Innsjøundersøkelse 2019 | 71716 | 128-2-200 | Langevatnet | 2019-10-25 | 0 | 0 | NO3+NO2-N | NA |  46.000 | µg/l |\n",
       "\n"
      ],
      "text/plain": [
       "  ProjectId ProjectName                      StationId StationCode StationName\n",
       "1 12433     Nasjonal Innsjøundersøkelse 2019 71716     128-2-200   Langevatnet\n",
       "2 12433     Nasjonal Innsjøundersøkelse 2019 71716     128-2-200   Langevatnet\n",
       "3 12433     Nasjonal Innsjøundersøkelse 2019 71716     128-2-200   Langevatnet\n",
       "4 12433     Nasjonal Innsjøundersøkelse 2019 71716     128-2-200   Langevatnet\n",
       "5 12433     Nasjonal Innsjøundersøkelse 2019 71716     128-2-200   Langevatnet\n",
       "6 12433     Nasjonal Innsjøundersøkelse 2019 71716     128-2-200   Langevatnet\n",
       "  SampleDate Depth1 Depth2 ParameterName Flag Value   Unit\n",
       "1 2019-10-25 0      0      Cl            NA     4.140 mg/L\n",
       "2 2019-10-25 0      0      Cd            NA     0.039 µg/l\n",
       "3 2019-10-25 0      0      Fe            NA   830.000 µg/l\n",
       "4 2019-10-25 0      0      Mn            NA    19.000 µg/l\n",
       "5 2019-10-25 0      0      Co            NA     0.760 µg/L\n",
       "6 2019-10-25 0      0      NO3+NO2-N     NA    46.000 µg/l"
      ]
     },
     "metadata": {},
     "output_type": "display_data"
    }
   ],
   "source": [
    "# Period of interest\n",
    "st_dt <- \"01.01.2019\"\n",
    "end_dt <- \"31.12.2019\"\n",
    "\n",
    "df <- get_project_chemistry(proj_id, st_dt, end_dt, token = token)\n",
    "head(df)"
   ]
  }
 ],
 "metadata": {
  "kernelspec": {
   "display_name": "R",
   "language": "R",
   "name": "ir"
  },
  "language_info": {
   "codemirror_mode": "r",
   "file_extension": ".r",
   "mimetype": "text/x-r-source",
   "name": "R",
   "pygments_lexer": "r",
   "version": "4.0.3"
  }
 },
 "nbformat": 4,
 "nbformat_minor": 4
}
