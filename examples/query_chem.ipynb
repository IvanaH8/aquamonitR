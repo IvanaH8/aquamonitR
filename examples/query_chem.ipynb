{
 "cells": [
  {
   "cell_type": "code",
   "execution_count": 1,
   "metadata": {},
   "outputs": [],
   "source": [
    "source(\"../aquamonitR.R\")\n",
    "\n",
    "# The new functionality requires using the AM dev/test site\n",
    "host <- \"https://test-aquamonitor.niva.no/\""
   ]
  },
  {
   "cell_type": "markdown",
   "metadata": {},
   "source": [
    "# Query project-specific water chemistry data using the Aquamonitor API from R\n",
    "\n",
    "`aquamonitR` is a translation of [Aquamonitor-Python](https://github.com/NIVANorge/Aquamonitor-Python) to R."
   ]
  },
  {
   "cell_type": "markdown",
   "metadata": {},
   "source": [
    "## 1. Login"
   ]
  },
  {
   "cell_type": "code",
   "execution_count": 2,
   "metadata": {},
   "outputs": [
    {
     "name": "stdin",
     "output_type": "stream",
     "text": [
      "Username:  ···\n",
      "Password:  ··············\n"
     ]
    }
   ],
   "source": [
    "# Login to AM\n",
    "token <- login()"
   ]
  },
  {
   "cell_type": "markdown",
   "metadata": {},
   "source": [
    "## 2. List projects\n",
    "\n",
    "The `get_projects` function returns a list of all projects in the database. You can search this dataframe to identify the correct project ID for the project you are interested in."
   ]
  },
  {
   "cell_type": "code",
   "execution_count": 3,
   "metadata": {},
   "outputs": [
    {
     "name": "stdout",
     "output_type": "stream",
     "text": [
      "[1] \"1300 projects in the database.\"\n"
     ]
    },
    {
     "data": {
      "text/html": [
       "<table>\n",
       "<caption>A data.frame: 6 × 4</caption>\n",
       "<thead>\n",
       "\t<tr><th></th><th scope=col>ProjectId</th><th scope=col>ProjectCode</th><th scope=col>ProjectName</th><th scope=col>Description</th></tr>\n",
       "\t<tr><th></th><th scope=col>&lt;int&gt;</th><th scope=col>&lt;chr&gt;</th><th scope=col>&lt;chr&gt;</th><th scope=col>&lt;chr&gt;</th></tr>\n",
       "</thead>\n",
       "<tbody>\n",
       "\t<tr><th scope=row>1</th><td> 1</td><td>NA</td><td>xxx            </td><td>NA     </td></tr>\n",
       "\t<tr><th scope=row>2</th><td>55</td><td>NA</td><td>PARCOM_Aquateam</td><td>NA     </td></tr>\n",
       "\t<tr><th scope=row>3</th><td>56</td><td>NA</td><td>PARCOM_NIVA    </td><td>NA     </td></tr>\n",
       "\t<tr><th scope=row>4</th><td>58</td><td>NA</td><td>MAR_BOK        </td><td>Fagdata</td></tr>\n",
       "\t<tr><th scope=row>5</th><td>59</td><td>NA</td><td>MAR_IMA        </td><td>Fagdata</td></tr>\n",
       "\t<tr><th scope=row>6</th><td>60</td><td>NA</td><td>MAR_JOK        </td><td>Fagdata</td></tr>\n",
       "</tbody>\n",
       "</table>\n"
      ],
      "text/latex": [
       "A data.frame: 6 × 4\n",
       "\\begin{tabular}{r|llll}\n",
       "  & ProjectId & ProjectCode & ProjectName & Description\\\\\n",
       "  & <int> & <chr> & <chr> & <chr>\\\\\n",
       "\\hline\n",
       "\t1 &  1 & NA & xxx             & NA     \\\\\n",
       "\t2 & 55 & NA & PARCOM\\_Aquateam & NA     \\\\\n",
       "\t3 & 56 & NA & PARCOM\\_NIVA     & NA     \\\\\n",
       "\t4 & 58 & NA & MAR\\_BOK         & Fagdata\\\\\n",
       "\t5 & 59 & NA & MAR\\_IMA         & Fagdata\\\\\n",
       "\t6 & 60 & NA & MAR\\_JOK         & Fagdata\\\\\n",
       "\\end{tabular}\n"
      ],
      "text/markdown": [
       "\n",
       "A data.frame: 6 × 4\n",
       "\n",
       "| <!--/--> | ProjectId &lt;int&gt; | ProjectCode &lt;chr&gt; | ProjectName &lt;chr&gt; | Description &lt;chr&gt; |\n",
       "|---|---|---|---|---|\n",
       "| 1 |  1 | NA | xxx             | NA      |\n",
       "| 2 | 55 | NA | PARCOM_Aquateam | NA      |\n",
       "| 3 | 56 | NA | PARCOM_NIVA     | NA      |\n",
       "| 4 | 58 | NA | MAR_BOK         | Fagdata |\n",
       "| 5 | 59 | NA | MAR_IMA         | Fagdata |\n",
       "| 6 | 60 | NA | MAR_JOK         | Fagdata |\n",
       "\n"
      ],
      "text/plain": [
       "  ProjectId ProjectCode ProjectName     Description\n",
       "1  1        NA          xxx             NA         \n",
       "2 55        NA          PARCOM_Aquateam NA         \n",
       "3 56        NA          PARCOM_NIVA     NA         \n",
       "4 58        NA          MAR_BOK         Fagdata    \n",
       "5 59        NA          MAR_IMA         Fagdata    \n",
       "6 60        NA          MAR_JOK         Fagdata    "
      ]
     },
     "metadata": {},
     "output_type": "display_data"
    }
   ],
   "source": [
    "proj_df <- get_projects(token = token)\n",
    "print(paste(nrow(proj_df), \"projects in the database.\", sep = \" \"))\n",
    "head(proj_df)"
   ]
  },
  {
   "cell_type": "code",
   "execution_count": 4,
   "metadata": {},
   "outputs": [
    {
     "data": {
      "text/html": [
       "<table>\n",
       "<caption>A data.frame: 1 × 4</caption>\n",
       "<thead>\n",
       "\t<tr><th></th><th scope=col>ProjectId</th><th scope=col>ProjectCode</th><th scope=col>ProjectName</th><th scope=col>Description</th></tr>\n",
       "\t<tr><th></th><th scope=col>&lt;int&gt;</th><th scope=col>&lt;chr&gt;</th><th scope=col>&lt;chr&gt;</th><th scope=col>&lt;chr&gt;</th></tr>\n",
       "</thead>\n",
       "<tbody>\n",
       "\t<tr><th scope=row>1202</th><td>12433</td><td>190091</td><td>Nasjonal Innsjøundersøkelse 2019</td><td>1000-sjøer undersøkelse gjennomført i 2019</td></tr>\n",
       "</tbody>\n",
       "</table>\n"
      ],
      "text/latex": [
       "A data.frame: 1 × 4\n",
       "\\begin{tabular}{r|llll}\n",
       "  & ProjectId & ProjectCode & ProjectName & Description\\\\\n",
       "  & <int> & <chr> & <chr> & <chr>\\\\\n",
       "\\hline\n",
       "\t1202 & 12433 & 190091 & Nasjonal Innsjøundersøkelse 2019 & 1000-sjøer undersøkelse gjennomført i 2019\\\\\n",
       "\\end{tabular}\n"
      ],
      "text/markdown": [
       "\n",
       "A data.frame: 1 × 4\n",
       "\n",
       "| <!--/--> | ProjectId &lt;int&gt; | ProjectCode &lt;chr&gt; | ProjectName &lt;chr&gt; | Description &lt;chr&gt; |\n",
       "|---|---|---|---|---|\n",
       "| 1202 | 12433 | 190091 | Nasjonal Innsjøundersøkelse 2019 | 1000-sjøer undersøkelse gjennomført i 2019 |\n",
       "\n"
      ],
      "text/plain": [
       "     ProjectId ProjectCode ProjectName                     \n",
       "1202 12433     190091      Nasjonal Innsjøundersøkelse 2019\n",
       "     Description                               \n",
       "1202 1000-sjøer undersøkelse gjennomført i 2019"
      ]
     },
     "metadata": {},
     "output_type": "display_data"
    }
   ],
   "source": [
    "# Find the project code for the 2019 '1000 Lakes' survey\n",
    "subset(proj_df, grepl(\"Nasjonal\", ProjectName))"
   ]
  },
  {
   "cell_type": "markdown",
   "metadata": {},
   "source": [
    "## 3. Get stations in project\n",
    "\n",
    "Use `get_project_stations` to get a list of all stations associated with your project of interest.\n",
    "\n",
    "**To do:** It would be great if this API endpoint could also return the geographic co-ordinates (lat/lon) for each station. At present, I think this can only be achieved by iterating over the `api/projects/{proj_id}/stations/{stn_id}/samplePoint` endpoint for each station, which is slow."
   ]
  },
  {
   "cell_type": "code",
   "execution_count": 5,
   "metadata": {},
   "outputs": [
    {
     "name": "stdout",
     "output_type": "stream",
     "text": [
      "[1] \"1003 stations in project.\"\n"
     ]
    },
    {
     "data": {
      "text/html": [
       "<table>\n",
       "<caption>A data.frame: 6 × 5</caption>\n",
       "<thead>\n",
       "\t<tr><th></th><th scope=col>ProjectId</th><th scope=col>StationId</th><th scope=col>StationCode</th><th scope=col>StationName</th><th scope=col>Type</th></tr>\n",
       "\t<tr><th></th><th scope=col>&lt;int&gt;</th><th scope=col>&lt;int&gt;</th><th scope=col>&lt;chr&gt;</th><th scope=col>&lt;chr&gt;</th><th scope=col>&lt;chr&gt;</th></tr>\n",
       "</thead>\n",
       "<tbody>\n",
       "\t<tr><th scope=row>1</th><td>12433</td><td>26104</td><td>1037-1-1 </td><td>Lisle Frøysvatnet</td><td>Innsjø</td></tr>\n",
       "\t<tr><th scope=row>2</th><td>12433</td><td>26105</td><td>1046-1-23</td><td>Bergetjørni      </td><td>Innsjø</td></tr>\n",
       "\t<tr><th scope=row>3</th><td>12433</td><td>26106</td><td>1114-1-20</td><td>Skjelbreidtjørni </td><td>Innsjø</td></tr>\n",
       "\t<tr><th scope=row>4</th><td>12433</td><td>26107</td><td>1114-1-34</td><td>Lomstjørni       </td><td>Innsjø</td></tr>\n",
       "\t<tr><th scope=row>5</th><td>12433</td><td>26108</td><td>1122-1-9 </td><td>Kråtjørni        </td><td>Innsjø</td></tr>\n",
       "\t<tr><th scope=row>6</th><td>12433</td><td>26109</td><td>1129-1-13</td><td>Tvaravatnet      </td><td>Innsjø</td></tr>\n",
       "</tbody>\n",
       "</table>\n"
      ],
      "text/latex": [
       "A data.frame: 6 × 5\n",
       "\\begin{tabular}{r|lllll}\n",
       "  & ProjectId & StationId & StationCode & StationName & Type\\\\\n",
       "  & <int> & <int> & <chr> & <chr> & <chr>\\\\\n",
       "\\hline\n",
       "\t1 & 12433 & 26104 & 1037-1-1  & Lisle Frøysvatnet & Innsjø\\\\\n",
       "\t2 & 12433 & 26105 & 1046-1-23 & Bergetjørni       & Innsjø\\\\\n",
       "\t3 & 12433 & 26106 & 1114-1-20 & Skjelbreidtjørni  & Innsjø\\\\\n",
       "\t4 & 12433 & 26107 & 1114-1-34 & Lomstjørni        & Innsjø\\\\\n",
       "\t5 & 12433 & 26108 & 1122-1-9  & Kråtjørni         & Innsjø\\\\\n",
       "\t6 & 12433 & 26109 & 1129-1-13 & Tvaravatnet       & Innsjø\\\\\n",
       "\\end{tabular}\n"
      ],
      "text/markdown": [
       "\n",
       "A data.frame: 6 × 5\n",
       "\n",
       "| <!--/--> | ProjectId &lt;int&gt; | StationId &lt;int&gt; | StationCode &lt;chr&gt; | StationName &lt;chr&gt; | Type &lt;chr&gt; |\n",
       "|---|---|---|---|---|---|\n",
       "| 1 | 12433 | 26104 | 1037-1-1  | Lisle Frøysvatnet | Innsjø |\n",
       "| 2 | 12433 | 26105 | 1046-1-23 | Bergetjørni       | Innsjø |\n",
       "| 3 | 12433 | 26106 | 1114-1-20 | Skjelbreidtjørni  | Innsjø |\n",
       "| 4 | 12433 | 26107 | 1114-1-34 | Lomstjørni        | Innsjø |\n",
       "| 5 | 12433 | 26108 | 1122-1-9  | Kråtjørni         | Innsjø |\n",
       "| 6 | 12433 | 26109 | 1129-1-13 | Tvaravatnet       | Innsjø |\n",
       "\n"
      ],
      "text/plain": [
       "  ProjectId StationId StationCode StationName       Type  \n",
       "1 12433     26104     1037-1-1    Lisle Frøysvatnet Innsjø\n",
       "2 12433     26105     1046-1-23   Bergetjørni       Innsjø\n",
       "3 12433     26106     1114-1-20   Skjelbreidtjørni  Innsjø\n",
       "4 12433     26107     1114-1-34   Lomstjørni        Innsjø\n",
       "5 12433     26108     1122-1-9    Kråtjørni         Innsjø\n",
       "6 12433     26109     1129-1-13   Tvaravatnet       Innsjø"
      ]
     },
     "metadata": {},
     "output_type": "display_data"
    }
   ],
   "source": [
    "# Project of interest\n",
    "proj_id <- 12433\n",
    "\n",
    "stn_df <- get_project_stations(proj_id, token = token)\n",
    "print(paste(nrow(stn_df), \"stations in project.\", sep = \" \"))\n",
    "head(stn_df)"
   ]
  },
  {
   "cell_type": "markdown",
   "metadata": {},
   "source": [
    "## 4. Get water chemistry\n",
    "\n",
    "Use `get_project_chemistry` to extract all the water chemistry data for your project and time period of of interest."
   ]
  },
  {
   "cell_type": "code",
   "execution_count": 6,
   "metadata": {},
   "outputs": [
    {
     "data": {
      "text/html": [
       "<table>\n",
       "<caption>A data.frame: 6 × 13</caption>\n",
       "<thead>\n",
       "\t<tr><th></th><th scope=col>ProjectId</th><th scope=col>ProjectName</th><th scope=col>StationId</th><th scope=col>StationCode</th><th scope=col>StationName</th><th scope=col>SampleDate</th><th scope=col>Depth1</th><th scope=col>Depth2</th><th scope=col>ParameterName</th><th scope=col>Flag</th><th scope=col>Value</th><th scope=col>Unit</th><th scope=col>Approved</th></tr>\n",
       "\t<tr><th></th><th scope=col>&lt;int&gt;</th><th scope=col>&lt;chr&gt;</th><th scope=col>&lt;int&gt;</th><th scope=col>&lt;chr&gt;</th><th scope=col>&lt;chr&gt;</th><th scope=col>&lt;dttm&gt;</th><th scope=col>&lt;dbl&gt;</th><th scope=col>&lt;dbl&gt;</th><th scope=col>&lt;chr&gt;</th><th scope=col>&lt;chr&gt;</th><th scope=col>&lt;dbl&gt;</th><th scope=col>&lt;chr&gt;</th><th scope=col>&lt;lgl&gt;</th></tr>\n",
       "</thead>\n",
       "<tbody>\n",
       "\t<tr><th scope=row>1</th><td>12433</td><td>Nasjonal Innsjøundersøkelse 2019</td><td>71725</td><td>1432-2-205</td><td><span style=white-space:pre-wrap>Femtevatnet     </span></td><td>2019-10-02</td><td>NA</td><td>NA</td><td>Aluminium, ikke labil</td><td>&lt; </td><td> 5</td><td>UG_P_L</td><td>TRUE</td></tr>\n",
       "\t<tr><th scope=row>2</th><td>12433</td><td>Nasjonal Innsjøundersøkelse 2019</td><td>71719</td><td>623-603   </td><td>Breidlivatnet   </td><td>2019-10-28</td><td>NA</td><td>NA</td><td>Aluminium, ikke labil</td><td>NA</td><td>97</td><td>UG_P_L</td><td>TRUE</td></tr>\n",
       "\t<tr><th scope=row>3</th><td>12433</td><td>Nasjonal Innsjøundersøkelse 2019</td><td>45862</td><td>1037-19   </td><td>Fjotlandsvatnet </td><td>2019-10-30</td><td>NA</td><td>NA</td><td>Aluminium, ikke labil</td><td>NA</td><td>98</td><td>UG_P_L</td><td>TRUE</td></tr>\n",
       "\t<tr><th scope=row>4</th><td>12433</td><td>Nasjonal Innsjøundersøkelse 2019</td><td>37922</td><td>1622-1-5  </td><td>Nedre Hanstjørna</td><td>2019-10-09</td><td>NA</td><td>NA</td><td>Aluminium, ikke labil</td><td>NA</td><td>84</td><td>UG_P_L</td><td>TRUE</td></tr>\n",
       "\t<tr><th scope=row>5</th><td>12433</td><td>Nasjonal Innsjøundersøkelse 2019</td><td>27063</td><td>1811-1-22 </td><td>HOH 674         </td><td>2019-09-26</td><td>NA</td><td>NA</td><td>Aluminium, ikke labil</td><td>NA</td><td> 7</td><td>UG_P_L</td><td>TRUE</td></tr>\n",
       "\t<tr><th scope=row>6</th><td>12433</td><td>Nasjonal Innsjøundersøkelse 2019</td><td>27056</td><td>1266-2-11 </td><td>Harekupvatnet   </td><td>2019-10-17</td><td>NA</td><td>NA</td><td>Aluminium, ikke labil</td><td>NA</td><td> 7</td><td>UG_P_L</td><td>TRUE</td></tr>\n",
       "</tbody>\n",
       "</table>\n"
      ],
      "text/latex": [
       "A data.frame: 6 × 13\n",
       "\\begin{tabular}{r|lllllllllllll}\n",
       "  & ProjectId & ProjectName & StationId & StationCode & StationName & SampleDate & Depth1 & Depth2 & ParameterName & Flag & Value & Unit & Approved\\\\\n",
       "  & <int> & <chr> & <int> & <chr> & <chr> & <dttm> & <dbl> & <dbl> & <chr> & <chr> & <dbl> & <chr> & <lgl>\\\\\n",
       "\\hline\n",
       "\t1 & 12433 & Nasjonal Innsjøundersøkelse 2019 & 71725 & 1432-2-205 & Femtevatnet      & 2019-10-02 & NA & NA & Aluminium, ikke labil & <  &  5 & UG\\_P\\_L & TRUE\\\\\n",
       "\t2 & 12433 & Nasjonal Innsjøundersøkelse 2019 & 71719 & 623-603    & Breidlivatnet    & 2019-10-28 & NA & NA & Aluminium, ikke labil & NA & 97 & UG\\_P\\_L & TRUE\\\\\n",
       "\t3 & 12433 & Nasjonal Innsjøundersøkelse 2019 & 45862 & 1037-19    & Fjotlandsvatnet  & 2019-10-30 & NA & NA & Aluminium, ikke labil & NA & 98 & UG\\_P\\_L & TRUE\\\\\n",
       "\t4 & 12433 & Nasjonal Innsjøundersøkelse 2019 & 37922 & 1622-1-5   & Nedre Hanstjørna & 2019-10-09 & NA & NA & Aluminium, ikke labil & NA & 84 & UG\\_P\\_L & TRUE\\\\\n",
       "\t5 & 12433 & Nasjonal Innsjøundersøkelse 2019 & 27063 & 1811-1-22  & HOH 674          & 2019-09-26 & NA & NA & Aluminium, ikke labil & NA &  7 & UG\\_P\\_L & TRUE\\\\\n",
       "\t6 & 12433 & Nasjonal Innsjøundersøkelse 2019 & 27056 & 1266-2-11  & Harekupvatnet    & 2019-10-17 & NA & NA & Aluminium, ikke labil & NA &  7 & UG\\_P\\_L & TRUE\\\\\n",
       "\\end{tabular}\n"
      ],
      "text/markdown": [
       "\n",
       "A data.frame: 6 × 13\n",
       "\n",
       "| <!--/--> | ProjectId &lt;int&gt; | ProjectName &lt;chr&gt; | StationId &lt;int&gt; | StationCode &lt;chr&gt; | StationName &lt;chr&gt; | SampleDate &lt;dttm&gt; | Depth1 &lt;dbl&gt; | Depth2 &lt;dbl&gt; | ParameterName &lt;chr&gt; | Flag &lt;chr&gt; | Value &lt;dbl&gt; | Unit &lt;chr&gt; | Approved &lt;lgl&gt; |\n",
       "|---|---|---|---|---|---|---|---|---|---|---|---|---|---|\n",
       "| 1 | 12433 | Nasjonal Innsjøundersøkelse 2019 | 71725 | 1432-2-205 | Femtevatnet      | 2019-10-02 | NA | NA | Aluminium, ikke labil | &lt;  |  5 | UG_P_L | TRUE |\n",
       "| 2 | 12433 | Nasjonal Innsjøundersøkelse 2019 | 71719 | 623-603    | Breidlivatnet    | 2019-10-28 | NA | NA | Aluminium, ikke labil | NA | 97 | UG_P_L | TRUE |\n",
       "| 3 | 12433 | Nasjonal Innsjøundersøkelse 2019 | 45862 | 1037-19    | Fjotlandsvatnet  | 2019-10-30 | NA | NA | Aluminium, ikke labil | NA | 98 | UG_P_L | TRUE |\n",
       "| 4 | 12433 | Nasjonal Innsjøundersøkelse 2019 | 37922 | 1622-1-5   | Nedre Hanstjørna | 2019-10-09 | NA | NA | Aluminium, ikke labil | NA | 84 | UG_P_L | TRUE |\n",
       "| 5 | 12433 | Nasjonal Innsjøundersøkelse 2019 | 27063 | 1811-1-22  | HOH 674          | 2019-09-26 | NA | NA | Aluminium, ikke labil | NA |  7 | UG_P_L | TRUE |\n",
       "| 6 | 12433 | Nasjonal Innsjøundersøkelse 2019 | 27056 | 1266-2-11  | Harekupvatnet    | 2019-10-17 | NA | NA | Aluminium, ikke labil | NA |  7 | UG_P_L | TRUE |\n",
       "\n"
      ],
      "text/plain": [
       "  ProjectId ProjectName                      StationId StationCode\n",
       "1 12433     Nasjonal Innsjøundersøkelse 2019 71725     1432-2-205 \n",
       "2 12433     Nasjonal Innsjøundersøkelse 2019 71719     623-603    \n",
       "3 12433     Nasjonal Innsjøundersøkelse 2019 45862     1037-19    \n",
       "4 12433     Nasjonal Innsjøundersøkelse 2019 37922     1622-1-5   \n",
       "5 12433     Nasjonal Innsjøundersøkelse 2019 27063     1811-1-22  \n",
       "6 12433     Nasjonal Innsjøundersøkelse 2019 27056     1266-2-11  \n",
       "  StationName      SampleDate Depth1 Depth2 ParameterName         Flag Value\n",
       "1 Femtevatnet      2019-10-02 NA     NA     Aluminium, ikke labil <     5   \n",
       "2 Breidlivatnet    2019-10-28 NA     NA     Aluminium, ikke labil NA   97   \n",
       "3 Fjotlandsvatnet  2019-10-30 NA     NA     Aluminium, ikke labil NA   98   \n",
       "4 Nedre Hanstjørna 2019-10-09 NA     NA     Aluminium, ikke labil NA   84   \n",
       "5 HOH 674          2019-09-26 NA     NA     Aluminium, ikke labil NA    7   \n",
       "6 Harekupvatnet    2019-10-17 NA     NA     Aluminium, ikke labil NA    7   \n",
       "  Unit   Approved\n",
       "1 UG_P_L TRUE    \n",
       "2 UG_P_L TRUE    \n",
       "3 UG_P_L TRUE    \n",
       "4 UG_P_L TRUE    \n",
       "5 UG_P_L TRUE    \n",
       "6 UG_P_L TRUE    "
      ]
     },
     "metadata": {},
     "output_type": "display_data"
    }
   ],
   "source": [
    "# Period of interest\n",
    "st_dt <- \"01.01.2019\"\n",
    "end_dt <- \"31.12.2019\"\n",
    "\n",
    "df <- get_project_chemistry(proj_id, st_dt, end_dt, token = token, approved = TRUE)\n",
    "head(df)"
   ]
  }
 ],
 "metadata": {
  "kernelspec": {
   "display_name": "R",
   "language": "R",
   "name": "ir"
  },
  "language_info": {
   "codemirror_mode": "r",
   "file_extension": ".r",
   "mimetype": "text/x-r-source",
   "name": "R",
   "pygments_lexer": "r",
   "version": "4.0.3"
  }
 },
 "nbformat": 4,
 "nbformat_minor": 4
}
